{
  "nbformat": 4,
  "nbformat_minor": 0,
  "metadata": {
    "colab": {
      "name": "Untitled1.ipynb",
      "provenance": [],
      "authorship_tag": "ABX9TyOHjS19TrsLvHWXyixKocac",
      "include_colab_link": true
    },
    "kernelspec": {
      "name": "python3",
      "display_name": "Python 3"
    }
  },
  "cells": [
    {
      "cell_type": "markdown",
      "metadata": {
        "id": "view-in-github",
        "colab_type": "text"
      },
      "source": [
        "<a href=\"https://colab.research.google.com/github/radha1990kumari/test/blob/main/Test.ipynb\" target=\"_parent\"><img src=\"https://colab.research.google.com/assets/colab-badge.svg\" alt=\"Open In Colab\"/></a>"
      ]
    },
    {
      "cell_type": "code",
      "metadata": {
        "colab": {
          "base_uri": "https://localhost:8080/"
        },
        "id": "IOOJibqt1HPU",
        "outputId": "cd548432-948a-4b41-fb14-f51e128fe977"
      },
      "source": [
        "%%shell\r\n",
        "FILEURL=\"http://iizuka.cs.tsukuba.ac.jp/data/remasternet.pth.tar\"\r\n",
        "\r\n",
        "wget \"$FILEURL\""
      ],
      "execution_count": 4,
      "outputs": [
        {
          "output_type": "stream",
          "text": [
            "--2021-03-08 12:45:14--  http://iizuka.cs.tsukuba.ac.jp/data/remasternet.pth.tar\n",
            "Resolving iizuka.cs.tsukuba.ac.jp (iizuka.cs.tsukuba.ac.jp)... 130.158.81.20\n",
            "Connecting to iizuka.cs.tsukuba.ac.jp (iizuka.cs.tsukuba.ac.jp)|130.158.81.20|:80... connected.\n",
            "HTTP request sent, awaiting response... 200 OK\n",
            "Length: 256796033 (245M) [application/x-tar]\n",
            "Saving to: ‘remasternet.pth.tar’\n",
            "\n",
            "remasternet.pth.tar 100%[===================>] 244.90M  70.0MB/s    in 3.8s    \n",
            "\n",
            "2021-03-08 12:45:18 (65.1 MB/s) - ‘remasternet.pth.tar’ saved [256796033/256796033]\n",
            "\n"
          ],
          "name": "stdout"
        },
        {
          "output_type": "execute_result",
          "data": {
            "text/plain": [
              ""
            ]
          },
          "metadata": {
            "tags": []
          },
          "execution_count": 4
        }
      ]
    },
    {
      "cell_type": "code",
      "metadata": {
        "colab": {
          "base_uri": "https://localhost:8080/"
        },
        "id": "gf3Vu_wu3FBC",
        "outputId": "1cd1b461-c1a9-43f8-f8d6-9ccd4bcf5182"
      },
      "source": [
        "print(a+b)"
      ],
      "execution_count": 3,
      "outputs": [
        {
          "output_type": "stream",
          "text": [
            "30\n"
          ],
          "name": "stdout"
        }
      ]
    }
  ]
}